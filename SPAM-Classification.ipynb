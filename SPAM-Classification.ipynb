{
 "cells": [
  {
   "cell_type": "code",
   "execution_count": 1,
   "id": "ccdfe45a",
   "metadata": {},
   "outputs": [],
   "source": [
    "import tensorflow_hub as tfhub\n",
    "import tensorflow_text as tftxt\n",
    "import tensorflow as tf"
   ]
  },
  {
   "cell_type": "code",
   "execution_count": 47,
   "id": "44085abe",
   "metadata": {},
   "outputs": [],
   "source": [
    "import pandas as pd\n",
    "import numpy as np"
   ]
  },
  {
   "cell_type": "code",
   "execution_count": 3,
   "id": "aa2afdd7",
   "metadata": {},
   "outputs": [
    {
     "data": {
      "text/html": [
       "<div>\n",
       "<style scoped>\n",
       "    .dataframe tbody tr th:only-of-type {\n",
       "        vertical-align: middle;\n",
       "    }\n",
       "\n",
       "    .dataframe tbody tr th {\n",
       "        vertical-align: top;\n",
       "    }\n",
       "\n",
       "    .dataframe thead th {\n",
       "        text-align: right;\n",
       "    }\n",
       "</style>\n",
       "<table border=\"1\" class=\"dataframe\">\n",
       "  <thead>\n",
       "    <tr style=\"text-align: right;\">\n",
       "      <th></th>\n",
       "      <th>v1</th>\n",
       "      <th>v2</th>\n",
       "      <th>Unnamed: 2</th>\n",
       "      <th>Unnamed: 3</th>\n",
       "      <th>Unnamed: 4</th>\n",
       "    </tr>\n",
       "  </thead>\n",
       "  <tbody>\n",
       "    <tr>\n",
       "      <th>0</th>\n",
       "      <td>ham</td>\n",
       "      <td>Go until jurong point, crazy.. Available only ...</td>\n",
       "      <td>NaN</td>\n",
       "      <td>NaN</td>\n",
       "      <td>NaN</td>\n",
       "    </tr>\n",
       "    <tr>\n",
       "      <th>1</th>\n",
       "      <td>ham</td>\n",
       "      <td>Ok lar... Joking wif u oni...</td>\n",
       "      <td>NaN</td>\n",
       "      <td>NaN</td>\n",
       "      <td>NaN</td>\n",
       "    </tr>\n",
       "    <tr>\n",
       "      <th>2</th>\n",
       "      <td>spam</td>\n",
       "      <td>Free entry in 2 a wkly comp to win FA Cup fina...</td>\n",
       "      <td>NaN</td>\n",
       "      <td>NaN</td>\n",
       "      <td>NaN</td>\n",
       "    </tr>\n",
       "    <tr>\n",
       "      <th>3</th>\n",
       "      <td>ham</td>\n",
       "      <td>U dun say so early hor... U c already then say...</td>\n",
       "      <td>NaN</td>\n",
       "      <td>NaN</td>\n",
       "      <td>NaN</td>\n",
       "    </tr>\n",
       "    <tr>\n",
       "      <th>4</th>\n",
       "      <td>ham</td>\n",
       "      <td>Nah I don't think he goes to usf, he lives aro...</td>\n",
       "      <td>NaN</td>\n",
       "      <td>NaN</td>\n",
       "      <td>NaN</td>\n",
       "    </tr>\n",
       "  </tbody>\n",
       "</table>\n",
       "</div>"
      ],
      "text/plain": [
       "     v1                                                 v2 Unnamed: 2  \\\n",
       "0   ham  Go until jurong point, crazy.. Available only ...        NaN   \n",
       "1   ham                      Ok lar... Joking wif u oni...        NaN   \n",
       "2  spam  Free entry in 2 a wkly comp to win FA Cup fina...        NaN   \n",
       "3   ham  U dun say so early hor... U c already then say...        NaN   \n",
       "4   ham  Nah I don't think he goes to usf, he lives aro...        NaN   \n",
       "\n",
       "  Unnamed: 3 Unnamed: 4  \n",
       "0        NaN        NaN  \n",
       "1        NaN        NaN  \n",
       "2        NaN        NaN  \n",
       "3        NaN        NaN  \n",
       "4        NaN        NaN  "
      ]
     },
     "execution_count": 3,
     "metadata": {},
     "output_type": "execute_result"
    }
   ],
   "source": [
    "df = pd.read_csv(\"./data/spam.csv\", encoding=\"ISO-8859-1\")\n",
    "df.head()"
   ]
  },
  {
   "cell_type": "code",
   "execution_count": 4,
   "id": "c4c378e0",
   "metadata": {},
   "outputs": [
    {
     "data": {
      "text/html": [
       "<div>\n",
       "<style scoped>\n",
       "    .dataframe tbody tr th:only-of-type {\n",
       "        vertical-align: middle;\n",
       "    }\n",
       "\n",
       "    .dataframe tbody tr th {\n",
       "        vertical-align: top;\n",
       "    }\n",
       "\n",
       "    .dataframe thead th {\n",
       "        text-align: right;\n",
       "    }\n",
       "</style>\n",
       "<table border=\"1\" class=\"dataframe\">\n",
       "  <thead>\n",
       "    <tr style=\"text-align: right;\">\n",
       "      <th></th>\n",
       "      <th>category</th>\n",
       "      <th>message</th>\n",
       "    </tr>\n",
       "  </thead>\n",
       "  <tbody>\n",
       "    <tr>\n",
       "      <th>0</th>\n",
       "      <td>ham</td>\n",
       "      <td>Go until jurong point, crazy.. Available only ...</td>\n",
       "    </tr>\n",
       "    <tr>\n",
       "      <th>1</th>\n",
       "      <td>ham</td>\n",
       "      <td>Ok lar... Joking wif u oni...</td>\n",
       "    </tr>\n",
       "    <tr>\n",
       "      <th>2</th>\n",
       "      <td>spam</td>\n",
       "      <td>Free entry in 2 a wkly comp to win FA Cup fina...</td>\n",
       "    </tr>\n",
       "    <tr>\n",
       "      <th>3</th>\n",
       "      <td>ham</td>\n",
       "      <td>U dun say so early hor... U c already then say...</td>\n",
       "    </tr>\n",
       "    <tr>\n",
       "      <th>4</th>\n",
       "      <td>ham</td>\n",
       "      <td>Nah I don't think he goes to usf, he lives aro...</td>\n",
       "    </tr>\n",
       "  </tbody>\n",
       "</table>\n",
       "</div>"
      ],
      "text/plain": [
       "  category                                            message\n",
       "0      ham  Go until jurong point, crazy.. Available only ...\n",
       "1      ham                      Ok lar... Joking wif u oni...\n",
       "2     spam  Free entry in 2 a wkly comp to win FA Cup fina...\n",
       "3      ham  U dun say so early hor... U c already then say...\n",
       "4      ham  Nah I don't think he goes to usf, he lives aro..."
      ]
     },
     "execution_count": 4,
     "metadata": {},
     "output_type": "execute_result"
    }
   ],
   "source": [
    "df = df[[\"v1\", \"v2\"]]\n",
    "df.rename(columns={\"v1\":\"category\", \"v2\":\"message\"}, inplace=True)\n",
    "\n",
    "df.head()"
   ]
  },
  {
   "cell_type": "code",
   "execution_count": 5,
   "id": "f93d9ebb",
   "metadata": {},
   "outputs": [
    {
     "data": {
      "text/plain": [
       "(5572, 2)"
      ]
     },
     "execution_count": 5,
     "metadata": {},
     "output_type": "execute_result"
    }
   ],
   "source": [
    "df.shape"
   ]
  },
  {
   "cell_type": "code",
   "execution_count": 6,
   "id": "bac55fee",
   "metadata": {},
   "outputs": [
    {
     "data": {
      "text/plain": [
       "ham     4825\n",
       "spam     747\n",
       "Name: category, dtype: int64"
      ]
     },
     "execution_count": 6,
     "metadata": {},
     "output_type": "execute_result"
    }
   ],
   "source": [
    "df[\"category\"].value_counts()"
   ]
  },
  {
   "cell_type": "code",
   "execution_count": 7,
   "id": "ab38230e",
   "metadata": {},
   "outputs": [
    {
     "data": {
      "text/plain": [
       "0.15"
      ]
     },
     "execution_count": 7,
     "metadata": {},
     "output_type": "execute_result"
    }
   ],
   "source": [
    "round(df[\"category\"].value_counts()[\"spam\"]/df[\"category\"].value_counts()[\"ham\"],2)"
   ]
  },
  {
   "cell_type": "markdown",
   "id": "dec78cfc",
   "metadata": {},
   "source": [
    "## Check Null"
   ]
  },
  {
   "cell_type": "code",
   "execution_count": 8,
   "id": "2553a441",
   "metadata": {},
   "outputs": [
    {
     "data": {
      "text/plain": [
       "category    0\n",
       "message     0\n",
       "dtype: int64"
      ]
     },
     "execution_count": 8,
     "metadata": {},
     "output_type": "execute_result"
    }
   ],
   "source": [
    "df.isnull().sum()"
   ]
  },
  {
   "cell_type": "markdown",
   "id": "7495983b",
   "metadata": {},
   "source": [
    "## Replace labels with binary counterparts"
   ]
  },
  {
   "cell_type": "code",
   "execution_count": 9,
   "id": "2c7c4dc9",
   "metadata": {},
   "outputs": [
    {
     "data": {
      "text/html": [
       "<div>\n",
       "<style scoped>\n",
       "    .dataframe tbody tr th:only-of-type {\n",
       "        vertical-align: middle;\n",
       "    }\n",
       "\n",
       "    .dataframe tbody tr th {\n",
       "        vertical-align: top;\n",
       "    }\n",
       "\n",
       "    .dataframe thead th {\n",
       "        text-align: right;\n",
       "    }\n",
       "</style>\n",
       "<table border=\"1\" class=\"dataframe\">\n",
       "  <thead>\n",
       "    <tr style=\"text-align: right;\">\n",
       "      <th></th>\n",
       "      <th>category</th>\n",
       "      <th>message</th>\n",
       "      <th>label</th>\n",
       "    </tr>\n",
       "  </thead>\n",
       "  <tbody>\n",
       "    <tr>\n",
       "      <th>0</th>\n",
       "      <td>ham</td>\n",
       "      <td>Go until jurong point, crazy.. Available only ...</td>\n",
       "      <td>0</td>\n",
       "    </tr>\n",
       "    <tr>\n",
       "      <th>1</th>\n",
       "      <td>ham</td>\n",
       "      <td>Ok lar... Joking wif u oni...</td>\n",
       "      <td>0</td>\n",
       "    </tr>\n",
       "    <tr>\n",
       "      <th>2</th>\n",
       "      <td>spam</td>\n",
       "      <td>Free entry in 2 a wkly comp to win FA Cup fina...</td>\n",
       "      <td>1</td>\n",
       "    </tr>\n",
       "    <tr>\n",
       "      <th>3</th>\n",
       "      <td>ham</td>\n",
       "      <td>U dun say so early hor... U c already then say...</td>\n",
       "      <td>0</td>\n",
       "    </tr>\n",
       "    <tr>\n",
       "      <th>4</th>\n",
       "      <td>ham</td>\n",
       "      <td>Nah I don't think he goes to usf, he lives aro...</td>\n",
       "      <td>0</td>\n",
       "    </tr>\n",
       "  </tbody>\n",
       "</table>\n",
       "</div>"
      ],
      "text/plain": [
       "  category                                            message  label\n",
       "0      ham  Go until jurong point, crazy.. Available only ...      0\n",
       "1      ham                      Ok lar... Joking wif u oni...      0\n",
       "2     spam  Free entry in 2 a wkly comp to win FA Cup fina...      1\n",
       "3      ham  U dun say so early hor... U c already then say...      0\n",
       "4      ham  Nah I don't think he goes to usf, he lives aro...      0"
      ]
     },
     "execution_count": 9,
     "metadata": {},
     "output_type": "execute_result"
    }
   ],
   "source": [
    "df['label'] = df[\"category\"].replace({\"spam\":1, \"ham\":0})\n",
    "\n",
    "df.head()"
   ]
  },
  {
   "cell_type": "code",
   "execution_count": 11,
   "id": "799fc894",
   "metadata": {},
   "outputs": [
    {
     "data": {
      "text/html": [
       "<div>\n",
       "<style scoped>\n",
       "    .dataframe tbody tr th:only-of-type {\n",
       "        vertical-align: middle;\n",
       "    }\n",
       "\n",
       "    .dataframe tbody tr th {\n",
       "        vertical-align: top;\n",
       "    }\n",
       "\n",
       "    .dataframe thead th {\n",
       "        text-align: right;\n",
       "    }\n",
       "</style>\n",
       "<table border=\"1\" class=\"dataframe\">\n",
       "  <thead>\n",
       "    <tr style=\"text-align: right;\">\n",
       "      <th></th>\n",
       "      <th>message</th>\n",
       "      <th>label</th>\n",
       "    </tr>\n",
       "  </thead>\n",
       "  <tbody>\n",
       "    <tr>\n",
       "      <th>0</th>\n",
       "      <td>Go until jurong point, crazy.. Available only ...</td>\n",
       "      <td>0</td>\n",
       "    </tr>\n",
       "    <tr>\n",
       "      <th>1</th>\n",
       "      <td>Ok lar... Joking wif u oni...</td>\n",
       "      <td>0</td>\n",
       "    </tr>\n",
       "    <tr>\n",
       "      <th>2</th>\n",
       "      <td>Free entry in 2 a wkly comp to win FA Cup fina...</td>\n",
       "      <td>1</td>\n",
       "    </tr>\n",
       "    <tr>\n",
       "      <th>3</th>\n",
       "      <td>U dun say so early hor... U c already then say...</td>\n",
       "      <td>0</td>\n",
       "    </tr>\n",
       "    <tr>\n",
       "      <th>4</th>\n",
       "      <td>Nah I don't think he goes to usf, he lives aro...</td>\n",
       "      <td>0</td>\n",
       "    </tr>\n",
       "  </tbody>\n",
       "</table>\n",
       "</div>"
      ],
      "text/plain": [
       "                                             message  label\n",
       "0  Go until jurong point, crazy.. Available only ...      0\n",
       "1                      Ok lar... Joking wif u oni...      0\n",
       "2  Free entry in 2 a wkly comp to win FA Cup fina...      1\n",
       "3  U dun say so early hor... U c already then say...      0\n",
       "4  Nah I don't think he goes to usf, he lives aro...      0"
      ]
     },
     "execution_count": 11,
     "metadata": {},
     "output_type": "execute_result"
    }
   ],
   "source": [
    "## Consider only message and label\n",
    "model_df = df[[\"message\", \"label\"]]\n",
    "\n",
    "model_df.head()"
   ]
  },
  {
   "cell_type": "code",
   "execution_count": 10,
   "id": "acde6c7f",
   "metadata": {},
   "outputs": [],
   "source": [
    "from sklearn.model_selection import train_test_split"
   ]
  },
  {
   "cell_type": "code",
   "execution_count": 17,
   "id": "55c92be6",
   "metadata": {},
   "outputs": [],
   "source": [
    "df_train, df_test = train_test_split(model_df, train_size=0.80, random_state=42, stratify=model_df[\"label\"])"
   ]
  },
  {
   "cell_type": "code",
   "execution_count": 18,
   "id": "a5e8ea16",
   "metadata": {},
   "outputs": [
    {
     "data": {
      "text/plain": [
       "(4457, 2)"
      ]
     },
     "execution_count": 18,
     "metadata": {},
     "output_type": "execute_result"
    }
   ],
   "source": [
    "df_train.shape"
   ]
  },
  {
   "cell_type": "code",
   "execution_count": 19,
   "id": "b7126c9f",
   "metadata": {},
   "outputs": [
    {
     "data": {
      "text/plain": [
       "0    3859\n",
       "1     598\n",
       "Name: label, dtype: int64"
      ]
     },
     "execution_count": 19,
     "metadata": {},
     "output_type": "execute_result"
    }
   ],
   "source": [
    "df_train[\"label\"].value_counts()"
   ]
  },
  {
   "cell_type": "code",
   "execution_count": 20,
   "id": "6a105753",
   "metadata": {},
   "outputs": [
    {
     "data": {
      "text/plain": [
       "(1115, 2)"
      ]
     },
     "execution_count": 20,
     "metadata": {},
     "output_type": "execute_result"
    }
   ],
   "source": [
    "df_test.shape"
   ]
  },
  {
   "cell_type": "code",
   "execution_count": 21,
   "id": "8e4a7b34",
   "metadata": {},
   "outputs": [
    {
     "data": {
      "text/plain": [
       "0    966\n",
       "1    149\n",
       "Name: label, dtype: int64"
      ]
     },
     "execution_count": 21,
     "metadata": {},
     "output_type": "execute_result"
    }
   ],
   "source": [
    "df_test[\"label\"].value_counts()"
   ]
  },
  {
   "cell_type": "markdown",
   "id": "4b6bb4d7",
   "metadata": {},
   "source": [
    "## Understanding use of BERT model"
   ]
  },
  {
   "cell_type": "code",
   "execution_count": 22,
   "id": "acea1d1a",
   "metadata": {},
   "outputs": [],
   "source": [
    "preprocess_url = \"https://tfhub.dev/tensorflow/bert_en_uncased_preprocess/3\"\n",
    "encoder_url = \"https://tfhub.dev/tensorflow/bert_en_uncased_L-12_H-768_A-12/4\""
   ]
  },
  {
   "cell_type": "code",
   "execution_count": 24,
   "id": "5becca7b",
   "metadata": {},
   "outputs": [],
   "source": [
    "bert_preprocess = tfhub.KerasLayer(preprocess_url)\n",
    "bert_encoder = tfhub.KerasLayer(encoder_url)"
   ]
  },
  {
   "cell_type": "code",
   "execution_count": 25,
   "id": "af844080",
   "metadata": {},
   "outputs": [],
   "source": [
    "test_text = [\"Good movie indeed\", \"I love Python programming\"]\n",
    "\n",
    "text_preprocessed = bert_preprocess(test_text)"
   ]
  },
  {
   "cell_type": "code",
   "execution_count": 26,
   "id": "7d05c063",
   "metadata": {},
   "outputs": [
    {
     "data": {
      "text/plain": [
       "dict_keys(['input_mask', 'input_type_ids', 'input_word_ids'])"
      ]
     },
     "execution_count": 26,
     "metadata": {},
     "output_type": "execute_result"
    }
   ],
   "source": [
    "text_preprocessed.keys()"
   ]
  },
  {
   "cell_type": "code",
   "execution_count": 27,
   "id": "83ab4329",
   "metadata": {},
   "outputs": [
    {
     "data": {
      "text/plain": [
       "<tf.Tensor: shape=(2, 128), dtype=int32, numpy=\n",
       "array([[1, 1, 1, 1, 1, 0, 0, 0, 0, 0, 0, 0, 0, 0, 0, 0, 0, 0, 0, 0, 0, 0,\n",
       "        0, 0, 0, 0, 0, 0, 0, 0, 0, 0, 0, 0, 0, 0, 0, 0, 0, 0, 0, 0, 0, 0,\n",
       "        0, 0, 0, 0, 0, 0, 0, 0, 0, 0, 0, 0, 0, 0, 0, 0, 0, 0, 0, 0, 0, 0,\n",
       "        0, 0, 0, 0, 0, 0, 0, 0, 0, 0, 0, 0, 0, 0, 0, 0, 0, 0, 0, 0, 0, 0,\n",
       "        0, 0, 0, 0, 0, 0, 0, 0, 0, 0, 0, 0, 0, 0, 0, 0, 0, 0, 0, 0, 0, 0,\n",
       "        0, 0, 0, 0, 0, 0, 0, 0, 0, 0, 0, 0, 0, 0, 0, 0, 0, 0],\n",
       "       [1, 1, 1, 1, 1, 1, 0, 0, 0, 0, 0, 0, 0, 0, 0, 0, 0, 0, 0, 0, 0, 0,\n",
       "        0, 0, 0, 0, 0, 0, 0, 0, 0, 0, 0, 0, 0, 0, 0, 0, 0, 0, 0, 0, 0, 0,\n",
       "        0, 0, 0, 0, 0, 0, 0, 0, 0, 0, 0, 0, 0, 0, 0, 0, 0, 0, 0, 0, 0, 0,\n",
       "        0, 0, 0, 0, 0, 0, 0, 0, 0, 0, 0, 0, 0, 0, 0, 0, 0, 0, 0, 0, 0, 0,\n",
       "        0, 0, 0, 0, 0, 0, 0, 0, 0, 0, 0, 0, 0, 0, 0, 0, 0, 0, 0, 0, 0, 0,\n",
       "        0, 0, 0, 0, 0, 0, 0, 0, 0, 0, 0, 0, 0, 0, 0, 0, 0, 0]])>"
      ]
     },
     "execution_count": 27,
     "metadata": {},
     "output_type": "execute_result"
    }
   ],
   "source": [
    "## Mostly for Focal Loss function\n",
    "text_preprocessed['input_mask']"
   ]
  },
  {
   "cell_type": "code",
   "execution_count": 28,
   "id": "775eb537",
   "metadata": {},
   "outputs": [
    {
     "data": {
      "text/plain": [
       "<tf.Tensor: shape=(2, 128), dtype=int32, numpy=\n",
       "array([[  101,  2204,  3185,  5262,   102,     0,     0,     0,     0,\n",
       "            0,     0,     0,     0,     0,     0,     0,     0,     0,\n",
       "            0,     0,     0,     0,     0,     0,     0,     0,     0,\n",
       "            0,     0,     0,     0,     0,     0,     0,     0,     0,\n",
       "            0,     0,     0,     0,     0,     0,     0,     0,     0,\n",
       "            0,     0,     0,     0,     0,     0,     0,     0,     0,\n",
       "            0,     0,     0,     0,     0,     0,     0,     0,     0,\n",
       "            0,     0,     0,     0,     0,     0,     0,     0,     0,\n",
       "            0,     0,     0,     0,     0,     0,     0,     0,     0,\n",
       "            0,     0,     0,     0,     0,     0,     0,     0,     0,\n",
       "            0,     0,     0,     0,     0,     0,     0,     0,     0,\n",
       "            0,     0,     0,     0,     0,     0,     0,     0,     0,\n",
       "            0,     0,     0,     0,     0,     0,     0,     0,     0,\n",
       "            0,     0,     0,     0,     0,     0,     0,     0,     0,\n",
       "            0,     0],\n",
       "       [  101,  1045,  2293, 18750,  4730,   102,     0,     0,     0,\n",
       "            0,     0,     0,     0,     0,     0,     0,     0,     0,\n",
       "            0,     0,     0,     0,     0,     0,     0,     0,     0,\n",
       "            0,     0,     0,     0,     0,     0,     0,     0,     0,\n",
       "            0,     0,     0,     0,     0,     0,     0,     0,     0,\n",
       "            0,     0,     0,     0,     0,     0,     0,     0,     0,\n",
       "            0,     0,     0,     0,     0,     0,     0,     0,     0,\n",
       "            0,     0,     0,     0,     0,     0,     0,     0,     0,\n",
       "            0,     0,     0,     0,     0,     0,     0,     0,     0,\n",
       "            0,     0,     0,     0,     0,     0,     0,     0,     0,\n",
       "            0,     0,     0,     0,     0,     0,     0,     0,     0,\n",
       "            0,     0,     0,     0,     0,     0,     0,     0,     0,\n",
       "            0,     0,     0,     0,     0,     0,     0,     0,     0,\n",
       "            0,     0,     0,     0,     0,     0,     0,     0,     0,\n",
       "            0,     0]])>"
      ]
     },
     "execution_count": 28,
     "metadata": {},
     "output_type": "execute_result"
    }
   ],
   "source": [
    "## Integer mapping of each words\n",
    "text_preprocessed['input_word_ids']"
   ]
  },
  {
   "cell_type": "code",
   "execution_count": 29,
   "id": "1399e373",
   "metadata": {},
   "outputs": [
    {
     "data": {
      "text/plain": [
       "dict_keys(['sequence_output', 'default', 'pooled_output', 'encoder_outputs'])"
      ]
     },
     "execution_count": 29,
     "metadata": {},
     "output_type": "execute_result"
    }
   ],
   "source": [
    "## Lets call bert model on this preprocessed text\n",
    "bert_results = bert_encoder(text_preprocessed)\n",
    "\n",
    "bert_results.keys()"
   ]
  },
  {
   "cell_type": "code",
   "execution_count": 30,
   "id": "8c17bd85",
   "metadata": {},
   "outputs": [
    {
     "data": {
      "text/plain": [
       "<tf.Tensor: shape=(2, 768), dtype=float32, numpy=\n",
       "array([[-0.7895058 , -0.20431206,  0.4131056 , ...,  0.20101456,\n",
       "        -0.46502224,  0.7900286 ],\n",
       "       [-0.91709894, -0.47926584, -0.78663105, ..., -0.6176258 ,\n",
       "        -0.7101896 ,  0.92184716]], dtype=float32)>"
      ]
     },
     "execution_count": 30,
     "metadata": {},
     "output_type": "execute_result"
    }
   ],
   "source": [
    "## pooled_output (2,768)--> Represents embedding for entire sentence \n",
    "## Global Average Pooling on every word vector(of dim - 128) of \"sequence_output\" key\n",
    "## within a sentence; 2 -> for two sentences, 768 --> representation of 768 abstract features\n",
    "## We directly use this for other NLP tasks\n",
    "\n",
    "bert_results['pooled_output']"
   ]
  },
  {
   "cell_type": "code",
   "execution_count": 31,
   "id": "af8789dc",
   "metadata": {},
   "outputs": [
    {
     "data": {
      "text/plain": [
       "<tf.Tensor: shape=(2, 128, 768), dtype=float32, numpy=\n",
       "array([[[ 5.93400933e-02,  1.20564036e-01,  1.80374235e-01, ...,\n",
       "         -8.06351379e-02,  1.32378519e-01,  1.55150332e-02],\n",
       "        [-3.78345191e-01,  4.41926628e-01,  4.64997768e-01, ...,\n",
       "         -2.52495617e-01,  5.59761226e-01, -6.22169077e-01],\n",
       "        [ 1.62994787e-01, -3.82888794e-01, -3.49523485e-01, ...,\n",
       "         -2.70137161e-01,  7.98969343e-03, -7.29888082e-01],\n",
       "        ...,\n",
       "        [ 9.06447470e-02,  1.81277797e-01,  4.00425464e-01, ...,\n",
       "          1.36284083e-01,  2.40565389e-01,  1.53446466e-01],\n",
       "        [ 2.51968801e-02,  6.39203005e-04,  4.96825993e-01, ...,\n",
       "          2.05283135e-01,  2.67219722e-01, -6.34996146e-02],\n",
       "        [-1.00567743e-01, -2.60194153e-01,  5.52420616e-01, ...,\n",
       "          5.63074529e-01,  2.18655080e-01, -2.22517341e-01]],\n",
       "\n",
       "       [[-7.87319690e-02,  3.63226295e-01, -2.11012974e-01, ...,\n",
       "         -1.71596497e-01,  1.63150668e-01,  6.72125876e-01],\n",
       "        [ 2.79461086e-01,  4.37371939e-01, -3.57827306e-01, ...,\n",
       "         -4.44689170e-02,  3.83635491e-01,  5.88542223e-01],\n",
       "        [ 1.20421505e+00,  1.07295823e+00,  4.84502107e-01, ...,\n",
       "          2.49124140e-01,  4.06792760e-01,  4.05145347e-01],\n",
       "        ...,\n",
       "        [ 8.65761936e-02,  1.93504721e-01,  4.75430936e-01, ...,\n",
       "          1.88951507e-01, -6.50431216e-02,  3.12995255e-01],\n",
       "        [ 1.59096882e-01,  2.85742313e-01,  3.73258770e-01, ...,\n",
       "          9.31382626e-02, -4.99218330e-02,  3.87563199e-01],\n",
       "        [-8.05419385e-02, -9.53481197e-02,  2.67796457e-01, ...,\n",
       "          1.40023232e-01, -6.34096935e-02,  2.72997826e-01]]],\n",
       "      dtype=float32)>"
      ]
     },
     "execution_count": 31,
     "metadata": {},
     "output_type": "execute_result"
    }
   ],
   "source": [
    "## sequence_output - (2,128,768) --> Individual word embeddings of every word in a sentence \n",
    "## across 768 abstact features - contextualized word vectors\n",
    "## 2 --> only 2 sentences\n",
    "## 128 (default) --> sequence_length; max_length=512\n",
    "\n",
    "bert_results['sequence_output']"
   ]
  },
  {
   "cell_type": "code",
   "execution_count": 35,
   "id": "1f2cdb9e",
   "metadata": {},
   "outputs": [
    {
     "name": "stdout",
     "output_type": "stream",
     "text": [
      "Number of encoding layers(== # of encoded outputs):  12\n",
      "Encoded Output (Layer 1)\n",
      "tf.Tensor(\n",
      "[[[ 1.56760603e-01  3.86596322e-02 -2.72189751e-02 ...  4.43690643e-02\n",
      "    3.25059928e-02  2.67636031e-04]\n",
      "  [ 6.81112885e-01  7.91165531e-01 -1.11127526e-01 ... -5.95716536e-01\n",
      "   -1.09887004e+00 -1.93055952e+00]\n",
      "  [ 3.33087534e-01  6.65187716e-01 -4.93981928e-01 ...  2.15896443e-02\n",
      "    3.97989154e-01 -1.27452910e+00]\n",
      "  ...\n",
      "  [-6.59928396e-02 -2.35640988e-01  6.98154449e-01 ...  4.69457269e-01\n",
      "   -2.29550973e-01  1.29796490e-01]\n",
      "  [-1.32729053e-01 -2.68185347e-01  5.62804043e-01 ...  4.88162696e-01\n",
      "   -1.60438418e-01  8.98454338e-03]\n",
      "  [-2.27594264e-02 -1.91847593e-01  5.81588209e-01 ...  7.69649148e-01\n",
      "   -4.32761371e-01 -3.93359438e-02]]\n",
      "\n",
      " [[ 1.89115837e-01  2.74398103e-02 -6.50790483e-02 ... -6.18333369e-03\n",
      "    1.50548458e-01  3.15822810e-02]\n",
      "  [ 5.91498673e-01  7.59010613e-01 -7.23812655e-02 ...  6.19188905e-01\n",
      "    8.29147041e-01  1.61931962e-01]\n",
      "  [ 1.44605184e+00  4.46195036e-01  4.09652352e-01 ...  4.82584029e-01\n",
      "    6.26707435e-01  1.34836018e-01]\n",
      "  ...\n",
      "  [ 1.51601702e-01 -2.15739116e-01  7.03454792e-01 ... -1.25332326e-01\n",
      "   -1.37787223e-01  2.76865065e-01]\n",
      "  [ 5.15156686e-02 -2.40515366e-01  5.35740376e-01 ... -7.91783109e-02\n",
      "   -3.32294628e-02  1.73596784e-01]\n",
      "  [ 2.09552377e-01 -1.56563595e-01  6.04049981e-01 ...  3.29060018e-01\n",
      "   -3.58451247e-01  8.08711573e-02]]], shape=(2, 128, 768), dtype=float32)\n",
      "Encoded Output (Layer 12)\n",
      "tf.Tensor(\n",
      "[[[ 5.93400933e-02  1.20564036e-01  1.80374235e-01 ... -8.06351379e-02\n",
      "    1.32378519e-01  1.55150332e-02]\n",
      "  [-3.78345191e-01  4.41926628e-01  4.64997768e-01 ... -2.52495617e-01\n",
      "    5.59761226e-01 -6.22169077e-01]\n",
      "  [ 1.62994787e-01 -3.82888794e-01 -3.49523485e-01 ... -2.70137161e-01\n",
      "    7.98969343e-03 -7.29888082e-01]\n",
      "  ...\n",
      "  [ 9.06447470e-02  1.81277797e-01  4.00425464e-01 ...  1.36284083e-01\n",
      "    2.40565389e-01  1.53446466e-01]\n",
      "  [ 2.51968801e-02  6.39203005e-04  4.96825993e-01 ...  2.05283135e-01\n",
      "    2.67219722e-01 -6.34996146e-02]\n",
      "  [-1.00567743e-01 -2.60194153e-01  5.52420616e-01 ...  5.63074529e-01\n",
      "    2.18655080e-01 -2.22517341e-01]]\n",
      "\n",
      " [[-7.87319690e-02  3.63226295e-01 -2.11012974e-01 ... -1.71596497e-01\n",
      "    1.63150668e-01  6.72125876e-01]\n",
      "  [ 2.79461086e-01  4.37371939e-01 -3.57827306e-01 ... -4.44689170e-02\n",
      "    3.83635491e-01  5.88542223e-01]\n",
      "  [ 1.20421505e+00  1.07295823e+00  4.84502107e-01 ...  2.49124140e-01\n",
      "    4.06792760e-01  4.05145347e-01]\n",
      "  ...\n",
      "  [ 8.65761936e-02  1.93504721e-01  4.75430936e-01 ...  1.88951507e-01\n",
      "   -6.50431216e-02  3.12995255e-01]\n",
      "  [ 1.59096882e-01  2.85742313e-01  3.73258770e-01 ...  9.31382626e-02\n",
      "   -4.99218330e-02  3.87563199e-01]\n",
      "  [-8.05419385e-02 -9.53481197e-02  2.67796457e-01 ...  1.40023232e-01\n",
      "   -6.34096935e-02  2.72997826e-01]]], shape=(2, 128, 768), dtype=float32)\n"
     ]
    }
   ],
   "source": [
    "## encoder_outputs ==> these are the layers of encoders used in this bert_base model --> 12 layers\n",
    "print(\"Number of encoding layers(== # of encoded outputs): \", len(bert_results['encoder_outputs']))\n",
    "\n",
    "## Each layer provides (2, 128,768) contextualized word embedding outputs\n",
    "print(\"Encoded Output (Layer 1)\")\n",
    "print(bert_results[\"encoder_outputs\"][0])\n",
    "\n",
    "## Last layer output == bert_results['sequence_output']\n",
    "print(\"Encoded Output (Layer 12)\")\n",
    "print(bert_results[\"encoder_outputs\"][-1])"
   ]
  },
  {
   "cell_type": "code",
   "execution_count": 36,
   "id": "019b04d0",
   "metadata": {},
   "outputs": [],
   "source": [
    "## create a function that generated pooled_output sentence embeddings\n",
    "def get_sent_embeddings(txt_list):\n",
    "    ## First preprocess - Adding start(CLS)/end(SEP) tokens, masking\n",
    "    preprocessed_text = bert_preprocess(txt_list)\n",
    "    \n",
    "    ## Convert to sentence embeddings\n",
    "    return bert_encoder(preprocessed_text)['pooled_output']"
   ]
  },
  {
   "cell_type": "code",
   "execution_count": 39,
   "id": "39d44d18",
   "metadata": {},
   "outputs": [
    {
     "data": {
      "text/plain": [
       "<tf.Tensor: shape=(6, 768), dtype=float32, numpy=\n",
       "array([[-0.76051193, -0.1421029 ,  0.4961568 , ...,  0.42178705,\n",
       "        -0.5321054 ,  0.80295026],\n",
       "       [-0.7126569 , -0.15459532,  0.3832294 , ...,  0.35239327,\n",
       "        -0.5099291 ,  0.734623  ],\n",
       "       [-0.8196573 , -0.29626265,  0.20916894, ...,  0.255629  ,\n",
       "        -0.5875619 ,  0.8435542 ],\n",
       "       [-0.8252952 , -0.35545605, -0.5904593 , ..., -0.01626256,\n",
       "        -0.61419106,  0.8724024 ],\n",
       "       [-0.75018764, -0.26784304, -0.26641887, ...,  0.02857569,\n",
       "        -0.59357804,  0.797525  ],\n",
       "       [-0.81616974, -0.3588926 , -0.34416583, ..., -0.2067192 ,\n",
       "        -0.5662619 ,  0.7163663 ]], dtype=float32)>"
      ]
     },
     "execution_count": 39,
     "metadata": {},
     "output_type": "execute_result"
    }
   ],
   "source": [
    "## Lets try out the function\n",
    "rand_words = ['banana', 'mango', 'apple', 'jeff bezos', 'elon musk', 'noble varghese']\n",
    "results = get_sent_embeddings(rand_words)\n",
    "results"
   ]
  },
  {
   "cell_type": "code",
   "execution_count": 40,
   "id": "23477b45",
   "metadata": {},
   "outputs": [
    {
     "data": {
      "text/html": [
       "<div>\n",
       "<style scoped>\n",
       "    .dataframe tbody tr th:only-of-type {\n",
       "        vertical-align: middle;\n",
       "    }\n",
       "\n",
       "    .dataframe tbody tr th {\n",
       "        vertical-align: top;\n",
       "    }\n",
       "\n",
       "    .dataframe thead th {\n",
       "        text-align: right;\n",
       "    }\n",
       "</style>\n",
       "<table border=\"1\" class=\"dataframe\">\n",
       "  <thead>\n",
       "    <tr style=\"text-align: right;\">\n",
       "      <th></th>\n",
       "      <th>banana</th>\n",
       "      <th>mango</th>\n",
       "      <th>apple</th>\n",
       "      <th>jeff bezos</th>\n",
       "      <th>elon musk</th>\n",
       "      <th>noble varghese</th>\n",
       "    </tr>\n",
       "  </thead>\n",
       "  <tbody>\n",
       "    <tr>\n",
       "      <th>banana</th>\n",
       "      <td>1.000000</td>\n",
       "      <td>0.995405</td>\n",
       "      <td>0.965878</td>\n",
       "      <td>0.847008</td>\n",
       "      <td>0.893392</td>\n",
       "      <td>0.903900</td>\n",
       "    </tr>\n",
       "    <tr>\n",
       "      <th>mango</th>\n",
       "      <td>0.995405</td>\n",
       "      <td>1.000000</td>\n",
       "      <td>0.961404</td>\n",
       "      <td>0.849638</td>\n",
       "      <td>0.896656</td>\n",
       "      <td>0.906408</td>\n",
       "    </tr>\n",
       "    <tr>\n",
       "      <th>apple</th>\n",
       "      <td>0.965878</td>\n",
       "      <td>0.961404</td>\n",
       "      <td>1.000000</td>\n",
       "      <td>0.937253</td>\n",
       "      <td>0.962454</td>\n",
       "      <td>0.965355</td>\n",
       "    </tr>\n",
       "    <tr>\n",
       "      <th>jeff bezos</th>\n",
       "      <td>0.847008</td>\n",
       "      <td>0.849638</td>\n",
       "      <td>0.937253</td>\n",
       "      <td>1.000000</td>\n",
       "      <td>0.987174</td>\n",
       "      <td>0.978489</td>\n",
       "    </tr>\n",
       "    <tr>\n",
       "      <th>elon musk</th>\n",
       "      <td>0.893392</td>\n",
       "      <td>0.896656</td>\n",
       "      <td>0.962454</td>\n",
       "      <td>0.987174</td>\n",
       "      <td>1.000000</td>\n",
       "      <td>0.986234</td>\n",
       "    </tr>\n",
       "    <tr>\n",
       "      <th>noble varghese</th>\n",
       "      <td>0.903900</td>\n",
       "      <td>0.906408</td>\n",
       "      <td>0.965355</td>\n",
       "      <td>0.978489</td>\n",
       "      <td>0.986234</td>\n",
       "      <td>1.000000</td>\n",
       "    </tr>\n",
       "  </tbody>\n",
       "</table>\n",
       "</div>"
      ],
      "text/plain": [
       "                  banana     mango     apple  jeff bezos  elon musk  \\\n",
       "banana          1.000000  0.995405  0.965878    0.847008   0.893392   \n",
       "mango           0.995405  1.000000  0.961404    0.849638   0.896656   \n",
       "apple           0.965878  0.961404  1.000000    0.937253   0.962454   \n",
       "jeff bezos      0.847008  0.849638  0.937253    1.000000   0.987174   \n",
       "elon musk       0.893392  0.896656  0.962454    0.987174   1.000000   \n",
       "noble varghese  0.903900  0.906408  0.965355    0.978489   0.986234   \n",
       "\n",
       "                noble varghese  \n",
       "banana                0.903900  \n",
       "mango                 0.906408  \n",
       "apple                 0.965355  \n",
       "jeff bezos            0.978489  \n",
       "elon musk             0.986234  \n",
       "noble varghese        1.000000  "
      ]
     },
     "execution_count": 40,
     "metadata": {},
     "output_type": "execute_result"
    }
   ],
   "source": [
    "##  Lets use cosine similarity to check how similar these embeddings are to check if it really understands underlying meaning/context\n",
    "from sklearn.metrics.pairwise import pairwise_distances\n",
    "\n",
    "cos_dist = pairwise_distances(results, metric='cosine')\n",
    "cos_sim = 1-cos_dist\n",
    "pd.DataFrame(cos_sim, index=rand_words, columns=rand_words) "
   ]
  },
  {
   "cell_type": "markdown",
   "id": "a0903416",
   "metadata": {},
   "source": [
    "## Lets use the bert model in our usecase"
   ]
  },
  {
   "cell_type": "code",
   "execution_count": 41,
   "id": "20c82402",
   "metadata": {},
   "outputs": [],
   "source": [
    "## lets use Functional Model instead of traditional Sequential Model\n",
    "## BERT Layers - get encoded sentence representations\n",
    "text_input = tf.keras.layers.Input(shape=(), dtype=tf.string, name=\"text\")\n",
    "preprocessed_input = bert_preprocess(text_input)\n",
    "encoded_outputs = bert_encoder(preprocessed_input)\n",
    "\n",
    "## Dense Layers\n",
    "## Add a Dropout\n",
    "x = tf.keras.layers.Dropout(0.1)(encoded_outputs['pooled_output'])\n",
    "x = tf.keras.layers.Dense(1, activation='sigmoid')(x)\n",
    "\n",
    "## Final Model call\n",
    "model = tf.keras.Model(inputs=[text_input], outputs=[x])"
   ]
  },
  {
   "cell_type": "code",
   "execution_count": 42,
   "id": "3828f621",
   "metadata": {},
   "outputs": [
    {
     "name": "stdout",
     "output_type": "stream",
     "text": [
      "Model: \"model\"\n",
      "__________________________________________________________________________________________________\n",
      " Layer (type)                   Output Shape         Param #     Connected to                     \n",
      "==================================================================================================\n",
      " text (InputLayer)              [(None,)]            0           []                               \n",
      "                                                                                                  \n",
      " keras_layer (KerasLayer)       {'input_mask': (Non  0           ['text[0][0]']                   \n",
      "                                e, 128),                                                          \n",
      "                                 'input_type_ids':                                                \n",
      "                                (None, 128),                                                      \n",
      "                                 'input_word_ids':                                                \n",
      "                                (None, 128)}                                                      \n",
      "                                                                                                  \n",
      " keras_layer_1 (KerasLayer)     {'sequence_output':  109482241   ['keras_layer[0][0]',            \n",
      "                                 (None, 128, 768),                'keras_layer[0][1]',            \n",
      "                                 'default': (None,                'keras_layer[0][2]']            \n",
      "                                768),                                                             \n",
      "                                 'pooled_output': (                                               \n",
      "                                None, 768),                                                       \n",
      "                                 'encoder_outputs':                                               \n",
      "                                 [(None, 128, 768),                                               \n",
      "                                 (None, 128, 768),                                                \n",
      "                                 (None, 128, 768),                                                \n",
      "                                 (None, 128, 768),                                                \n",
      "                                 (None, 128, 768),                                                \n",
      "                                 (None, 128, 768),                                                \n",
      "                                 (None, 128, 768),                                                \n",
      "                                 (None, 128, 768),                                                \n",
      "                                 (None, 128, 768),                                                \n",
      "                                 (None, 128, 768),                                                \n",
      "                                 (None, 128, 768),                                                \n",
      "                                 (None, 128, 768)]}                                               \n",
      "                                                                                                  \n",
      " dropout (Dropout)              (None, 768)          0           ['keras_layer_1[0][13]']         \n",
      "                                                                                                  \n",
      " dense (Dense)                  (None, 1)            769         ['dropout[0][0]']                \n",
      "                                                                                                  \n",
      "==================================================================================================\n",
      "Total params: 109,483,010\n",
      "Trainable params: 769\n",
      "Non-trainable params: 109,482,241\n",
      "__________________________________________________________________________________________________\n"
     ]
    }
   ],
   "source": [
    "model.summary()"
   ]
  },
  {
   "cell_type": "code",
   "execution_count": 43,
   "id": "dbcfe3bd",
   "metadata": {},
   "outputs": [],
   "source": [
    "METRICS = [\n",
    "    tf.keras.metrics.BinaryAccuracy(),\n",
    "    tf.keras.metrics.Precision(),\n",
    "    tf.keras.metrics.Recall()\n",
    "]\n",
    "model.compile(\n",
    "    optimizer='Adam',\n",
    "    loss='binary_crossentropy',\n",
    "    metrics=METRICS\n",
    ")"
   ]
  },
  {
   "cell_type": "code",
   "execution_count": 45,
   "id": "658baa5e",
   "metadata": {},
   "outputs": [],
   "source": [
    "X_train = df_train['message']\n",
    "y_train = df_train['label']"
   ]
  },
  {
   "cell_type": "code",
   "execution_count": 52,
   "id": "171c0ca9",
   "metadata": {},
   "outputs": [],
   "source": [
    "from sklearn.utils import class_weight\n",
    "\n",
    "cls_weights = class_weight.compute_class_weight(class_weight='balanced', classes=np.unique(y_train), y=y_train)\n",
    "\n",
    "cls_weights = dict(enumerate(cls_weights))"
   ]
  },
  {
   "cell_type": "code",
   "execution_count": 54,
   "id": "35cc4756",
   "metadata": {},
   "outputs": [
    {
     "name": "stdout",
     "output_type": "stream",
     "text": [
      "Epoch 1/20\n",
      "140/140 [==============================] - 50s 300ms/step - loss: 0.4930 - binary_accuracy: 0.7743 - precision: 0.3480 - recall: 0.7809\n",
      "Epoch 2/20\n",
      "140/140 [==============================] - 42s 301ms/step - loss: 0.3485 - binary_accuracy: 0.8708 - precision: 0.5104 - recall: 0.9030\n",
      "Epoch 3/20\n",
      "140/140 [==============================] - 42s 298ms/step - loss: 0.3040 - binary_accuracy: 0.8851 - precision: 0.5429 - recall: 0.9097\n",
      "Epoch 4/20\n",
      "140/140 [==============================] - 42s 302ms/step - loss: 0.2684 - binary_accuracy: 0.8999 - precision: 0.5795 - recall: 0.9264\n",
      "Epoch 5/20\n",
      "140/140 [==============================] - 42s 298ms/step - loss: 0.2503 - binary_accuracy: 0.9046 - precision: 0.5931 - recall: 0.9214\n",
      "Epoch 6/20\n",
      "140/140 [==============================] - 42s 297ms/step - loss: 0.2290 - binary_accuracy: 0.9172 - precision: 0.6285 - recall: 0.9365\n",
      "Epoch 7/20\n",
      "140/140 [==============================] - 42s 297ms/step - loss: 0.2139 - binary_accuracy: 0.9280 - precision: 0.6635 - recall: 0.9398\n",
      "Epoch 8/20\n",
      "140/140 [==============================] - 42s 298ms/step - loss: 0.2028 - binary_accuracy: 0.9316 - precision: 0.6754 - recall: 0.9431\n",
      "Epoch 9/20\n",
      "140/140 [==============================] - 42s 297ms/step - loss: 0.1947 - binary_accuracy: 0.9396 - precision: 0.7064 - recall: 0.9415\n",
      "Epoch 10/20\n",
      "140/140 [==============================] - 42s 298ms/step - loss: 0.1841 - binary_accuracy: 0.9432 - precision: 0.7192 - recall: 0.9465\n",
      "Epoch 11/20\n",
      "140/140 [==============================] - 42s 298ms/step - loss: 0.1764 - binary_accuracy: 0.9441 - precision: 0.7212 - recall: 0.9515\n",
      "Epoch 12/20\n",
      "140/140 [==============================] - 42s 297ms/step - loss: 0.1734 - binary_accuracy: 0.9466 - precision: 0.7332 - recall: 0.9465\n",
      "Epoch 13/20\n",
      "140/140 [==============================] - 42s 298ms/step - loss: 0.1685 - binary_accuracy: 0.9448 - precision: 0.7268 - recall: 0.9431\n",
      "Epoch 14/20\n",
      "140/140 [==============================] - 42s 298ms/step - loss: 0.1617 - binary_accuracy: 0.9515 - precision: 0.7553 - recall: 0.9448\n",
      "Epoch 15/20\n",
      "140/140 [==============================] - 42s 298ms/step - loss: 0.1600 - binary_accuracy: 0.9509 - precision: 0.7510 - recall: 0.9482\n",
      "Epoch 16/20\n",
      "140/140 [==============================] - 42s 298ms/step - loss: 0.1535 - binary_accuracy: 0.9533 - precision: 0.7600 - recall: 0.9532\n",
      "Epoch 17/20\n",
      "140/140 [==============================] - 42s 298ms/step - loss: 0.1533 - binary_accuracy: 0.9558 - precision: 0.7743 - recall: 0.9465\n",
      "Epoch 18/20\n",
      "140/140 [==============================] - 42s 298ms/step - loss: 0.1493 - binary_accuracy: 0.9562 - precision: 0.7727 - recall: 0.9548\n",
      "Epoch 19/20\n",
      "140/140 [==============================] - 42s 298ms/step - loss: 0.1432 - binary_accuracy: 0.9571 - precision: 0.7746 - recall: 0.9599\n",
      "Epoch 20/20\n",
      "140/140 [==============================] - 42s 298ms/step - loss: 0.1435 - binary_accuracy: 0.9603 - precision: 0.7903 - recall: 0.9582\n"
     ]
    },
    {
     "data": {
      "text/plain": [
       "<keras.callbacks.History at 0x256c2928040>"
      ]
     },
     "execution_count": 54,
     "metadata": {},
     "output_type": "execute_result"
    }
   ],
   "source": [
    "model.fit(\n",
    "    X_train,\n",
    "    y_train,\n",
    "    class_weight=cls_weights,\n",
    "    epochs=20\n",
    ")"
   ]
  },
  {
   "cell_type": "code",
   "execution_count": 56,
   "id": "bf2300db",
   "metadata": {},
   "outputs": [],
   "source": [
    "X_test = df_test['message']\n",
    "y_test = df_test['label']"
   ]
  },
  {
   "cell_type": "code",
   "execution_count": 57,
   "id": "cadff7e5",
   "metadata": {},
   "outputs": [
    {
     "name": "stdout",
     "output_type": "stream",
     "text": [
      "35/35 [==============================] - 13s 298ms/step - loss: 0.1359 - binary_accuracy: 0.9623 - precision: 0.7989 - recall: 0.9597\n"
     ]
    },
    {
     "data": {
      "text/plain": [
       "[0.13586580753326416,\n",
       " 0.9623318314552307,\n",
       " 0.7988826632499695,\n",
       " 0.9597315192222595]"
      ]
     },
     "execution_count": 57,
     "metadata": {},
     "output_type": "execute_result"
    }
   ],
   "source": [
    "model.evaluate(X_test, y_test)"
   ]
  },
  {
   "cell_type": "code",
   "execution_count": 58,
   "id": "1ecb9249",
   "metadata": {},
   "outputs": [
    {
     "name": "stdout",
     "output_type": "stream",
     "text": [
      "35/35 [==============================] - 11s 304ms/step\n"
     ]
    },
    {
     "data": {
      "text/plain": [
       "array([[0.15354821],\n",
       "       [0.06297749],\n",
       "       [0.0098983 ],\n",
       "       ...,\n",
       "       [0.18856873],\n",
       "       [0.0015711 ],\n",
       "       [0.09942664]], dtype=float32)"
      ]
     },
     "execution_count": 58,
     "metadata": {},
     "output_type": "execute_result"
    }
   ],
   "source": [
    "y_pred = model.predict(X_test)\n",
    "y_pred"
   ]
  },
  {
   "cell_type": "code",
   "execution_count": 59,
   "id": "43c86a35",
   "metadata": {},
   "outputs": [
    {
     "data": {
      "text/plain": [
       "(1115, 1)"
      ]
     },
     "execution_count": 59,
     "metadata": {},
     "output_type": "execute_result"
    }
   ],
   "source": [
    "y_pred.shape"
   ]
  },
  {
   "cell_type": "code",
   "execution_count": 61,
   "id": "5c9f8160",
   "metadata": {},
   "outputs": [
    {
     "data": {
      "text/plain": [
       "array([0.15354821, 0.06297749, 0.0098983 , ..., 0.18856873, 0.0015711 ,\n",
       "       0.09942664], dtype=float32)"
      ]
     },
     "execution_count": 61,
     "metadata": {},
     "output_type": "execute_result"
    }
   ],
   "source": [
    "y_pred = y_pred.flatten()\n",
    "y_pred"
   ]
  },
  {
   "cell_type": "code",
   "execution_count": 69,
   "id": "83dab595",
   "metadata": {},
   "outputs": [],
   "source": [
    "from sklearn.metrics import classification_report, roc_auc_score, confusion_matrix"
   ]
  },
  {
   "cell_type": "code",
   "execution_count": 66,
   "id": "e23bf949",
   "metadata": {},
   "outputs": [
    {
     "name": "stdout",
     "output_type": "stream",
     "text": [
      "              precision    recall  f1-score   support\n",
      "\n",
      "           0       0.99      0.96      0.98       966\n",
      "           1       0.80      0.96      0.87       149\n",
      "\n",
      "    accuracy                           0.96      1115\n",
      "   macro avg       0.90      0.96      0.92      1115\n",
      "weighted avg       0.97      0.96      0.96      1115\n",
      "\n"
     ]
    }
   ],
   "source": [
    "print(classification_report(y_test, np.where(y_pred>0.5, 1, 0)))"
   ]
  },
  {
   "cell_type": "code",
   "execution_count": 68,
   "id": "be3f151a",
   "metadata": {},
   "outputs": [
    {
     "data": {
      "text/plain": [
       "0.9899259382772659"
      ]
     },
     "execution_count": 68,
     "metadata": {},
     "output_type": "execute_result"
    }
   ],
   "source": [
    "roc_auc_score(y_test, y_pred)"
   ]
  },
  {
   "cell_type": "code",
   "execution_count": 73,
   "id": "457b1cf0",
   "metadata": {},
   "outputs": [
    {
     "data": {
      "image/png": "[encoded data removed]",
      "text/plain": [
       "<Figure size 432x288 with 2 Axes>"
      ]
     },
     "metadata": {
      "needs_background": "light"
     },
     "output_type": "display_data"
    }
   ],
   "source": [
    "cm = confusion_matrix(y_test, np.where(y_pred>0.5,1,0))\n",
    "\n",
    "import seaborn as sns\n",
    "import matplotlib.pyplot as plt\n",
    "\n",
    "sns.heatmap(cm, annot=True, fmt='d')\n",
    "plt.xlabel(\"Predicted\")\n",
    "plt.ylabel(\"Actual\")\n",
    "plt.show()"
   ]
  },
  {
   "cell_type": "code",
   "execution_count": null,
   "id": "0866967e",
   "metadata": {},
   "outputs": [],
   "source": []
  }
 ],
 "metadata": {
  "kernelspec": {
   "display_name": "dl-nlp-env",
   "language": "python",
   "name": "dl-nlp-env"
  },
  "language_info": {
   "codemirror_mode": {
    "name": "ipython",
    "version": 3
   },
   "file_extension": ".py",
   "mimetype": "text/x-python",
   "name": "python",
   "nbconvert_exporter": "python",
   "pygments_lexer": "ipython3",
   "version": "3.9.7"
  }
 },
 "nbformat": 4,
 "nbformat_minor": 5
}
